{
  "nbformat": 4,
  "nbformat_minor": 0,
  "metadata": {
    "colab": {
      "provenance": [],
      "toc_visible": true,
      "authorship_tag": "ABX9TyNEeBqk89TyG5YNLPZylDtK",
      "include_colab_link": true
    },
    "kernelspec": {
      "name": "python3",
      "display_name": "Python 3"
    },
    "language_info": {
      "name": "python"
    }
  },
  "cells": [
    {
      "cell_type": "markdown",
      "metadata": {
        "id": "view-in-github",
        "colab_type": "text"
      },
      "source": [
        "<a href=\"https://colab.research.google.com/github/pksi/coding_interview/blob/main/nvidia_coding_prep.ipynb\" target=\"_parent\"><img src=\"https://colab.research.google.com/assets/colab-badge.svg\" alt=\"Open In Colab\"/></a>"
      ]
    },
    {
      "cell_type": "code",
      "execution_count": null,
      "metadata": {
        "colab": {
          "base_uri": "https://localhost:8080/"
        },
        "id": "tskFeRlS3xBH",
        "outputId": "f78dea67-c938-4420-84e3-dfdab3f99cbd"
      },
      "outputs": [
        {
          "output_type": "execute_result",
          "data": {
            "text/plain": [
              "tensor([[90, 86, 26],\n",
              "        [24, 30, 47],\n",
              "        [64, 50, 23],\n",
              "        [86, 97, 56],\n",
              "        [ 9, 22, 27],\n",
              "        [67, 11, 16],\n",
              "        [52,  4, 16],\n",
              "        [70, 33, 11],\n",
              "        [63, 90, 78],\n",
              "        [78, 44, 46]])"
            ]
          },
          "metadata": {},
          "execution_count": 1
        }
      ],
      "source": [
        "import torch\n",
        "# Generate the data of 10 atoms in 3D space\n",
        "atoms=torch.randint(0,100,(10,3))\n",
        "atoms"
      ]
    },
    {
      "cell_type": "markdown",
      "source": [
        "## Calcualte the distance distribution of all atoms"
      ],
      "metadata": {
        "id": "rlvI4IDi4o-n"
      }
    },
    {
      "cell_type": "code",
      "source": [
        "import math\n",
        "distances = []\n",
        "for i in range (atoms.shape[0]):\n",
        "    for j in range (atoms.shape[0]):\n",
        "      if j>i:\n",
        "        distance = math.sqrt((atoms[i,0]-atoms[j,0])**2+(atoms[i,1]-atoms[j,1])**2+(atoms[i,2]-atoms[j,2])**2)\n",
        "        distances.append(distance)\n",
        "      else:\n",
        "        continue"
      ],
      "metadata": {
        "id": "G5zgrBgy314n"
      },
      "execution_count": null,
      "outputs": []
    },
    {
      "cell_type": "code",
      "source": [
        "import matplotlib.pyplot as plt\n",
        "plt.hist(distances)"
      ],
      "metadata": {
        "colab": {
          "base_uri": "https://localhost:8080/",
          "height": 521
        },
        "id": "Lq1GlfSK4Lu5",
        "outputId": "57f1179f-0078-4e59-ea11-2cc03eee4496"
      },
      "execution_count": null,
      "outputs": [
        {
          "output_type": "execute_result",
          "data": {
            "text/plain": [
              "(array([ 3.,  5.,  3.,  6., 11.,  2.,  4.,  4.,  3.,  4.]),\n",
              " array([ 16.55294536,  26.03093425,  35.50892315,  44.98691205,\n",
              "         54.46490095,  63.94288984,  73.42087874,  82.89886764,\n",
              "         92.37685654, 101.85484543, 111.33283433]),\n",
              " <BarContainer object of 10 artists>)"
            ]
          },
          "metadata": {},
          "execution_count": 81
        },
        {
          "output_type": "display_data",
          "data": {
            "text/plain": [
              "<Figure size 640x480 with 1 Axes>"
            ],
            "image/png": "[encoded data removed]"
          },
          "metadata": {}
        }
      ]
    },
    {
      "cell_type": "markdown",
      "source": [
        "## Build a model to predict nucleic acid locations in protein"
      ],
      "metadata": {
        "id": "r3VIoku95D7l"
      }
    },
    {
      "cell_type": "code",
      "source": [
        "torch.manual_seed = 21\n",
        "nuc_acid=torch.randint(0,100,(10,3))\n",
        "nuc_acid"
      ],
      "metadata": {
        "colab": {
          "base_uri": "https://localhost:8080/"
        },
        "id": "ESFxNRpy4P_f",
        "outputId": "50e54515-6b0b-4aaf-f95e-4669582e6dac"
      },
      "execution_count": null,
      "outputs": [
        {
          "output_type": "execute_result",
          "data": {
            "text/plain": [
              "tensor([[56, 59, 24],\n",
              "        [35, 28, 85],\n",
              "        [70, 76, 68],\n",
              "        [11, 24, 68],\n",
              "        [17, 72, 88],\n",
              "        [ 1, 12, 18],\n",
              "        [60, 36, 93],\n",
              "        [92, 83, 67],\n",
              "        [47, 41, 67],\n",
              "        [16, 39, 59]])"
            ]
          },
          "metadata": {},
          "execution_count": 30
        }
      ]
    },
    {
      "cell_type": "code",
      "source": [
        "torch.manual_seed = 42\n",
        "protein=torch.randint(0,100,(10,3))\n",
        "protein"
      ],
      "metadata": {
        "colab": {
          "base_uri": "https://localhost:8080/"
        },
        "id": "T6PYVj_-6BeO",
        "outputId": "b7da1210-59a6-4f26-807f-cdd897f6a7ef"
      },
      "execution_count": null,
      "outputs": [
        {
          "output_type": "execute_result",
          "data": {
            "text/plain": [
              "tensor([[87,  9, 90],\n",
              "        [76, 83, 87],\n",
              "        [82,  6, 49],\n",
              "        [88, 54, 23],\n",
              "        [65, 74, 50],\n",
              "        [80, 48, 94],\n",
              "        [87, 14, 55],\n",
              "        [96, 53, 42],\n",
              "        [35, 59, 85],\n",
              "        [ 6, 84, 85]])"
            ]
          },
          "metadata": {},
          "execution_count": 31
        }
      ]
    },
    {
      "cell_type": "code",
      "source": [
        "from torch import nn\n",
        "class ProteinModel(nn.Module):\n",
        "  def __init__(self) -> None:\n",
        "      super().__init__()\n",
        "      self.layers=nn.Sequential(\n",
        "          nn.Linear(in_features=3,out_features=10),\n",
        "          nn.ReLU(),\n",
        "          nn.Linear(in_features=10,out_features=3),\n",
        "          nn.ReLU()\n",
        "      )\n",
        "  def forward (self,x):\n",
        "      return self.layers(x)"
      ],
      "metadata": {
        "id": "E849bTwY6SgG"
      },
      "execution_count": null,
      "outputs": []
    },
    {
      "cell_type": "code",
      "source": [
        "model=ProteinModel()"
      ],
      "metadata": {
        "id": "jUoFJ5MQ8zi9"
      },
      "execution_count": null,
      "outputs": []
    },
    {
      "cell_type": "code",
      "source": [
        "nuc_acid=nuc_acid.type(torch.float)\n",
        "protein = protein.type(torch.float)"
      ],
      "metadata": {
        "id": "se6MUYro9ueD"
      },
      "execution_count": null,
      "outputs": []
    },
    {
      "cell_type": "code",
      "source": [
        "model(nuc_acid)"
      ],
      "metadata": {
        "colab": {
          "base_uri": "https://localhost:8080/"
        },
        "id": "TL2Ext1T9cGL",
        "outputId": "663e50c4-ed0e-4804-a8a9-2cec566431cc"
      },
      "execution_count": null,
      "outputs": [
        {
          "output_type": "execute_result",
          "data": {
            "text/plain": [
              "tensor([[0., 0., 0.],\n",
              "        [0., 0., 0.],\n",
              "        [0., 0., 0.],\n",
              "        [0., 0., 0.],\n",
              "        [0., 0., 0.],\n",
              "        [0., 0., 0.],\n",
              "        [0., 0., 0.],\n",
              "        [0., 0., 0.],\n",
              "        [0., 0., 0.],\n",
              "        [0., 0., 0.]], grad_fn=<ReluBackward0>)"
            ]
          },
          "metadata": {},
          "execution_count": 18
        }
      ]
    },
    {
      "cell_type": "markdown",
      "source": [
        "## Create a function to train the model"
      ],
      "metadata": {
        "id": "5tfcyDkx_p8p"
      }
    },
    {
      "cell_type": "code",
      "source": [
        "device = \"cuda\" if torch.cuda.is_available() else 'cpu'\n",
        "device"
      ],
      "metadata": {
        "colab": {
          "base_uri": "https://localhost:8080/",
          "height": 36
        },
        "id": "oowrlK4F_pOj",
        "outputId": "504b03f9-aaac-4c9a-dd47-86067f5c4899"
      },
      "execution_count": null,
      "outputs": [
        {
          "output_type": "execute_result",
          "data": {
            "text/plain": [
              "'cpu'"
            ],
            "application/vnd.google.colaboratory.intrinsic+json": {
              "type": "string"
            }
          },
          "metadata": {},
          "execution_count": 20
        }
      ]
    },
    {
      "cell_type": "code",
      "source": [
        "loss_fn= nn.MSELoss()"
      ],
      "metadata": {
        "id": "HvwaWv1Z9gHq"
      },
      "execution_count": null,
      "outputs": []
    },
    {
      "cell_type": "code",
      "source": [
        "optimizer = torch.optim.Adam (lr=0.01,params=model.parameters())"
      ],
      "metadata": {
        "id": "vLHJXFebBA89"
      },
      "execution_count": null,
      "outputs": []
    },
    {
      "cell_type": "code",
      "source": [
        "torch.manual_seed = 42\n",
        "model.to(device)\n",
        "nuc_acid,protein=nuc_acid.to(device),protein.to(device)\n",
        "\n",
        "epochs = 30\n",
        "for epoch in range(epochs):\n",
        "  model.train()\n",
        "  pred=model(nuc_acid)\n",
        "  loss=loss_fn(pred,protein)\n",
        "  print(epoch,loss)\n",
        "  optimizer.zero_grad()\n",
        "  loss.backward()\n",
        "  optimizer.step()"
      ],
      "metadata": {
        "id": "ccrUP4nXBVZB"
      },
      "execution_count": null,
      "outputs": []
    },
    {
      "cell_type": "code",
      "source": [
        "# Create a train model function\n",
        "def train_model(model,input,target,loss_fn,optimizer,epochs):\n",
        "  for epoch in range(epochs):\n",
        "    model.train()\n",
        "    output=model(input)\n",
        "    loss=loss_fn(output,target)\n",
        "    print(epoch,loss)\n",
        "    optimizer.zero_grad()\n",
        "    loss.backward()\n",
        "    optimizer.step()"
      ],
      "metadata": {
        "id": "_lYJFNwiLIti"
      },
      "execution_count": null,
      "outputs": []
    },
    {
      "cell_type": "code",
      "source": [
        "train_model(model,nuc_acid,protein,loss_fn=loss_fn,optimizer=optimizer,epochs=30)"
      ],
      "metadata": {
        "id": "hnZzJO4eUVHU"
      },
      "execution_count": null,
      "outputs": []
    },
    {
      "cell_type": "code",
      "source": [
        "# Include L2 regularizaiton\n",
        "weight_decay = 0.01\n",
        "optimizer = torch.optim.Adam(lr=0.001,params=model.parameters(),weight_decay=weight_decay)"
      ],
      "metadata": {
        "id": "9cMQ3Ihxijvz"
      },
      "execution_count": null,
      "outputs": []
    },
    {
      "cell_type": "code",
      "source": [
        "# Use model for prediction\n",
        "model.eval()\n",
        "with torch.inference_mode():\n",
        "  prediction = model(nuc_acid)"
      ],
      "metadata": {
        "id": "Ao3A6i0UUsdK"
      },
      "execution_count": null,
      "outputs": []
    },
    {
      "cell_type": "markdown",
      "source": [
        "## Vector meansurement in video"
      ],
      "metadata": {
        "id": "H06MnUoupdQk"
      }
    },
    {
      "cell_type": "code",
      "source": [
        "video = []\n",
        "for i in range (10):\n",
        "  torch.manual_seed = i\n",
        "  t=torch.randint(0,100,(10,2))\n",
        "  video.append(t)"
      ],
      "metadata": {
        "id": "tyNV5JwQvVNI"
      },
      "execution_count": null,
      "outputs": []
    },
    {
      "cell_type": "code",
      "source": [
        "directions = []\n",
        "for i in range (1,10):\n",
        "  diff=video[i]-video[i-1]\n",
        "  directions.append(diff)"
      ],
      "metadata": {
        "id": "jSfIgdDJwmkn"
      },
      "execution_count": null,
      "outputs": []
    },
    {
      "cell_type": "code",
      "source": [
        "len(directions)"
      ],
      "metadata": {
        "colab": {
          "base_uri": "https://localhost:8080/"
        },
        "id": "dxc1sQJYwqeh",
        "outputId": "f02b4569-516f-47b7-fa03-9bdd5461a5ce"
      },
      "execution_count": null,
      "outputs": [
        {
          "output_type": "execute_result",
          "data": {
            "text/plain": [
              "9"
            ]
          },
          "metadata": {},
          "execution_count": 68
        }
      ]
    },
    {
      "cell_type": "code",
      "source": [
        "directions[0]"
      ],
      "metadata": {
        "colab": {
          "base_uri": "https://localhost:8080/"
        },
        "id": "pzlhndwgxlCy",
        "outputId": "d4d4959a-fc41-4ac8-8e10-ab85b5398c63"
      },
      "execution_count": null,
      "outputs": [
        {
          "output_type": "execute_result",
          "data": {
            "text/plain": [
              "tensor([[-41,  50],\n",
              "        [-25, -60],\n",
              "        [ 51, -23],\n",
              "        [ 37, -11],\n",
              "        [ 14,  33],\n",
              "        [ 68,  -3],\n",
              "        [ 44,  26],\n",
              "        [-58,   7],\n",
              "        [-67, -69],\n",
              "        [ -9,   0]])"
            ]
          },
          "metadata": {},
          "execution_count": 69
        }
      ]
    },
    {
      "cell_type": "markdown",
      "source": [
        "## Minimum displacement from nucleic acid to protein"
      ],
      "metadata": {
        "id": "1T6hLgVKyUiY"
      }
    },
    {
      "cell_type": "code",
      "source": [
        "min_disp = []\n",
        "for i in range (nuc_acid.shape[0]):\n",
        "  distances = []\n",
        "  for j in range (protein.shape[0]):\n",
        "    distance = math.sqrt((nuc_acid[i,0]-protein[j,0])**2+(nuc_acid[i,1]-protein[j,1])**2+(nuc_acid[i,2]-protein[j,2])**2)\n",
        "    distances.append(distance)\n",
        "  min_disp.append(np.min(distances))"
      ],
      "metadata": {
        "id": "DLkN7qPtxsq4"
      },
      "execution_count": null,
      "outputs": []
    },
    {
      "cell_type": "code",
      "source": [
        "min_disp"
      ],
      "metadata": {
        "colab": {
          "base_uri": "https://localhost:8080/"
        },
        "id": "aHFMKcRC2QJW",
        "outputId": "a411e7ea-431a-4f33-95a2-b912896ecbee"
      },
      "execution_count": null,
      "outputs": [
        {
          "output_type": "execute_result",
          "data": {
            "text/plain": [
              "[31.336879231984796,\n",
              " 31.0,\n",
              " 18.788294228055936,\n",
              " 45.71651780264984,\n",
              " 16.55294535724685,\n",
              " 86.93675862372602,\n",
              " 23.345235059857504,\n",
              " 25.612496949731394,\n",
              " 28.142494558940577,\n",
              " 37.907782842049734]"
            ]
          },
          "metadata": {},
          "execution_count": 83
        }
      ]
    },
    {
      "cell_type": "markdown",
      "source": [
        "## Data Augmentation (Equalvairance converstion)"
      ],
      "metadata": {
        "id": "K-QdGzMHDKTQ"
      }
    },
    {
      "cell_type": "code",
      "source": [
        "node_features = torch.tensor([[0.1, 0.2, 0.3],\n",
        "                              [0.4, 0.5, 0.6],\n",
        "                              [0.7, 0.8, 0.9],\n",
        "                              [1.0, 1.1, 1.2]], dtype=torch.float32)"
      ],
      "metadata": {
        "id": "rsmlmKJu3LBj"
      },
      "execution_count": null,
      "outputs": []
    },
    {
      "cell_type": "code",
      "source": [
        "permutation = torch.randperm(node_features.size(0))"
      ],
      "metadata": {
        "id": "IxcXzP7JCpTd"
      },
      "execution_count": null,
      "outputs": []
    },
    {
      "cell_type": "code",
      "source": [
        "shuffled_node_features = node_features[permutation]\n",
        "shuffled_node_features"
      ],
      "metadata": {
        "colab": {
          "base_uri": "https://localhost:8080/"
        },
        "id": "QYkQuV_nCsXJ",
        "outputId": "d6ed0585-3ea4-470d-bc12-4625dee1497a"
      },
      "execution_count": null,
      "outputs": [
        {
          "output_type": "execute_result",
          "data": {
            "text/plain": [
              "tensor([[1.0000, 1.1000, 1.2000],\n",
              "        [0.4000, 0.5000, 0.6000],\n",
              "        [0.7000, 0.8000, 0.9000],\n",
              "        [0.1000, 0.2000, 0.3000]])"
            ]
          },
          "metadata": {},
          "execution_count": 86
        }
      ]
    },
    {
      "cell_type": "markdown",
      "source": [
        "## One-hot coding"
      ],
      "metadata": {
        "id": "UWSnzjPvEzle"
      }
    },
    {
      "cell_type": "code",
      "source": [
        "nodes = [1,2,3,4,5]\n",
        "one_hot = torch.eye(len(nodes)+1)[nodes]"
      ],
      "metadata": {
        "id": "wtuMkUIKC7mr"
      },
      "execution_count": null,
      "outputs": []
    },
    {
      "cell_type": "code",
      "source": [
        "one_hot"
      ],
      "metadata": {
        "colab": {
          "base_uri": "https://localhost:8080/"
        },
        "id": "CXLFWlb6FNrv",
        "outputId": "2014b1e1-e209-4488-dcc2-e3cbb4077c53"
      },
      "execution_count": null,
      "outputs": [
        {
          "output_type": "execute_result",
          "data": {
            "text/plain": [
              "tensor([[0., 1., 0., 0., 0., 0.],\n",
              "        [0., 0., 1., 0., 0., 0.],\n",
              "        [0., 0., 0., 1., 0., 0.],\n",
              "        [0., 0., 0., 0., 1., 0.],\n",
              "        [0., 0., 0., 0., 0., 1.]])"
            ]
          },
          "metadata": {},
          "execution_count": 92
        }
      ]
    },
    {
      "cell_type": "code",
      "source": [],
      "metadata": {
        "id": "0avHAYolFaR5"
      },
      "execution_count": 10,
      "outputs": []
    },
    {
      "cell_type": "markdown",
      "source": [
        "## Circle target problem"
      ],
      "metadata": {
        "id": "jAMyGNQQwRst"
      }
    },
    {
      "cell_type": "markdown",
      "source": [
        "### Create a loss function to calcualte how many points are outside the circle"
      ],
      "metadata": {
        "id": "eoq8AQz70K6A"
      }
    },
    {
      "cell_type": "code",
      "source": [
        "import torch\n",
        "sample=torch.randint(0,100,(100,2))\n",
        "sample"
      ],
      "metadata": {
        "id": "Z9Smw9Mqwxi4"
      },
      "execution_count": null,
      "outputs": []
    },
    {
      "cell_type": "code",
      "source": [
        "import math\n",
        "out_targe_pt = 0\n",
        "for i in range (len(sample)):\n",
        "  if math.sqrt((sample[i][0]-30)**2+(sample[i][1]-50)**2)>15:\n",
        "    out_targe_pt+=1\n",
        "out_targe_pt"
      ],
      "metadata": {
        "colab": {
          "base_uri": "https://localhost:8080/"
        },
        "id": "pdfcg2Dkxbfu",
        "outputId": "191bdc1c-dae9-4c86-8644-85040e94f1ad"
      },
      "execution_count": 4,
      "outputs": [
        {
          "output_type": "execute_result",
          "data": {
            "text/plain": [
              "96"
            ]
          },
          "metadata": {},
          "execution_count": 4
        }
      ]
    },
    {
      "cell_type": "code",
      "source": [
        "def loss_fn1 (pred):\n",
        "  out_targe_pt = 0\n",
        "  for i in range (len(pred)):\n",
        "    if math.sqrt((pred[i][0]-30)**2+(pred[i][1]-50)**2)>15:\n",
        "      out_targe_pt+=1\n",
        "  return out_targe_pt"
      ],
      "metadata": {
        "id": "co8vPrprwVTI"
      },
      "execution_count": 6,
      "outputs": []
    },
    {
      "cell_type": "code",
      "source": [
        "loss_fn1(sample)"
      ],
      "metadata": {
        "colab": {
          "base_uri": "https://localhost:8080/"
        },
        "id": "F-n9Zz3jz8Xa",
        "outputId": "1da80e4c-91f8-47a5-9bf3-59b4206a3100"
      },
      "execution_count": 7,
      "outputs": [
        {
          "output_type": "execute_result",
          "data": {
            "text/plain": [
              "96"
            ]
          },
          "metadata": {},
          "execution_count": 7
        }
      ]
    },
    {
      "cell_type": "markdown",
      "source": [
        "### Create a loss function to minimize the total displacement"
      ],
      "metadata": {
        "id": "5hoJKHAY0bSw"
      }
    },
    {
      "cell_type": "code",
      "source": [
        "def loss_fn2 (sample,pred):\n",
        "  total_disp = 0\n",
        "  for i in range (len(pred)):\n",
        "    disp=math.sqrt((pred[i][0]-sample[i][0])**2+(pred[i][1]-sample[i][0])**2)\n",
        "    total_disp+=disp\n",
        "  return loss_fn1 (pred)+total_disp"
      ],
      "metadata": {
        "id": "aQRgjChM0Vdr"
      },
      "execution_count": 8,
      "outputs": []
    },
    {
      "cell_type": "markdown",
      "source": [
        "## 2D samples"
      ],
      "metadata": {
        "id": "sU0Amfu96nRv"
      }
    },
    {
      "cell_type": "code",
      "source": [
        "torch.manual_seed=21\n",
        "sample1=torch.randint(0,100,(50,50,2))\n",
        "sample1"
      ],
      "metadata": {
        "id": "8tu6q7hf2T8D"
      },
      "execution_count": null,
      "outputs": []
    },
    {
      "cell_type": "code",
      "source": [
        "torch.manual_seed=42\n",
        "sample2=torch.randint(0,100,(50,50,2))\n",
        "sample2"
      ],
      "metadata": {
        "id": "216zZ07T3uES"
      },
      "execution_count": null,
      "outputs": []
    },
    {
      "cell_type": "code",
      "source": [
        "# Calculate the displacement of each point\n",
        "diff = sample2-sample1\n",
        "diff"
      ],
      "metadata": {
        "colab": {
          "base_uri": "https://localhost:8080/"
        },
        "id": "AnhjBSHE3_da",
        "outputId": "5e6fe91b-89f1-44f2-8e09-494516feac00"
      },
      "execution_count": 17,
      "outputs": [
        {
          "output_type": "execute_result",
          "data": {
            "text/plain": [
              "tensor([[[ 26,  25],\n",
              "         [-73, -13],\n",
              "         [-39,  26],\n",
              "         ...,\n",
              "         [  3,   3],\n",
              "         [ 53, -23],\n",
              "         [ -2, -18]],\n",
              "\n",
              "        [[ 53,  60],\n",
              "         [-41,  74],\n",
              "         [ 77,   5],\n",
              "         ...,\n",
              "         [-45,  56],\n",
              "         [ 58, -47],\n",
              "         [  5,   9]],\n",
              "\n",
              "        [[ 23,  19],\n",
              "         [ 76,  11],\n",
              "         [ 12,  63],\n",
              "         ...,\n",
              "         [ 57, -66],\n",
              "         [ 43, -55],\n",
              "         [ 18,  37]],\n",
              "\n",
              "        ...,\n",
              "\n",
              "        [[-52,  22],\n",
              "         [-79,  94],\n",
              "         [ 14, -49],\n",
              "         ...,\n",
              "         [ 36, -43],\n",
              "         [ 18,  48],\n",
              "         [-26,  94]],\n",
              "\n",
              "        [[ 52, -12],\n",
              "         [-19,  37],\n",
              "         [-66,  64],\n",
              "         ...,\n",
              "         [ 29, -15],\n",
              "         [ 81, -38],\n",
              "         [ 26, -79]],\n",
              "\n",
              "        [[ 25,  77],\n",
              "         [  1, -58],\n",
              "         [-52,  21],\n",
              "         ...,\n",
              "         [ 10, -63],\n",
              "         [ 58, -52],\n",
              "         [ 11,   5]]])"
            ]
          },
          "metadata": {},
          "execution_count": 17
        }
      ]
    },
    {
      "cell_type": "markdown",
      "source": [
        "## Convolution layer"
      ],
      "metadata": {
        "id": "CTwZmzF32pBO"
      }
    },
    {
      "cell_type": "code",
      "source": [
        "from torch import nn\n",
        "conv2d = nn.Conv2d(in_channels=2,\n",
        "                   out_channels=10,\n",
        "                   kernel_size=3)"
      ],
      "metadata": {
        "id": "HBhMqfim5uTF"
      },
      "execution_count": null,
      "outputs": []
    },
    {
      "cell_type": "code",
      "source": [
        "layers = nn.Sequential(nn.Conv2d(in_channels=2,out_channels=10,kernel_size=3,padding=1),\n",
        "                       nn.ReLU()\n",
        ")"
      ],
      "metadata": {
        "id": "wCxI51Wb7Aqe"
      },
      "execution_count": null,
      "outputs": []
    }
  ]
}