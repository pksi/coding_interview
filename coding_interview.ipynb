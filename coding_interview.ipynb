{
 "cells": [
  {
   "cell_type": "markdown",
   "id": "8f1eeb7a-10e7-40a7-807b-56bb9a0db0ed",
   "metadata": {},
   "source": [
    "### Write a function to calculate the convolution of a kernel with an image. Ignore stride."
   ]
  },
  {
   "cell_type": "code",
   "execution_count": 1,
   "id": "9b1d8af7-2428-469d-bb32-6b9e05cc6330",
   "metadata": {},
   "outputs": [],
   "source": [
    "import numpy as np"
   ]
  },
  {
   "cell_type": "code",
   "execution_count": 32,
   "id": "fc673d44-686e-4ad1-99a7-1eec5fd95efa",
   "metadata": {},
   "outputs": [],
   "source": [
    "img = np.random.randn(100,100)\n",
    "kernel = np.random.randn(5,5)\n",
    "padding = 1"
   ]
  },
  {
   "cell_type": "code",
   "execution_count": 33,
   "id": "18aed15e-8b10-4aec-813a-3f5ff3c575ca",
   "metadata": {},
   "outputs": [],
   "source": [
    "def conv2d (img, kernel, padding):\n",
    "    new_img_dim = img.shape[0]-kernel.shape[0]+1+padding*2\n",
    "    new_img = np.zeros((new_img_dim,new_img_dim))\n",
    "    pad_img = np.zeros((img.shape[0]+padding*2,img.shape[1]+padding*2))\n",
    "    pad_img[1:pad_img.shape[0]-1,1:pad_img.shape[1]-1]=img\n",
    "    for y in range (pad_img.shape[0]-5):\n",
    "        for x in range (pad_img.shape[1]-5):\n",
    "            block=pad_img[y:y+5,x:x+5]\n",
    "            new_img[y,x]=np.sum(kernel*block)\n",
    "    return new_img"
   ]
  },
  {
   "cell_type": "code",
   "execution_count": 34,
   "id": "97ea30ee-844f-4fa8-824f-e575407e5a4c",
   "metadata": {},
   "outputs": [
    {
     "data": {
      "text/plain": [
       "array([[  7.39940271,  -2.02262755,  -3.86006114, ...,   4.12656866,\n",
       "         -2.94297593,   0.        ],\n",
       "       [  1.98699758, -10.33515793,  -3.11218174, ...,  -5.75485525,\n",
       "          6.38059287,   0.        ],\n",
       "       [ -2.57873843,  -3.04804505,   4.28739325, ...,   6.27079227,\n",
       "         -4.36580864,   0.        ],\n",
       "       ...,\n",
       "       [ -2.49362482,  11.37642304,  -0.34325633, ...,   1.74625509,\n",
       "         10.25680293,   0.        ],\n",
       "       [ -1.26190757,   8.27647161,  -6.19142515, ...,   1.08036687,\n",
       "         -7.41882161,   0.        ],\n",
       "       [  0.        ,   0.        ,   0.        , ...,   0.        ,\n",
       "          0.        ,   0.        ]])"
      ]
     },
     "execution_count": 34,
     "metadata": {},
     "output_type": "execute_result"
    }
   ],
   "source": [
    "conv2d(img,kernel,padding)"
   ]
  },
  {
   "cell_type": "code",
   "execution_count": 36,
   "id": "14b82961-e695-4e07-8aa0-0295a3363f27",
   "metadata": {},
   "outputs": [
    {
     "name": "stdout",
     "output_type": "stream",
     "text": [
      "[[  7.39940271  -2.02262755  -3.86006114 ...   4.12656866  -2.94297593\n",
      "   -1.80883055]\n",
      " [  1.98699758 -10.33515793  -3.11218174 ...  -5.75485525   6.38059287\n",
      "   -3.81120507]\n",
      " [ -2.57873843  -3.04804505   4.28739325 ...   6.27079227  -4.36580864\n",
      "   -0.02445161]\n",
      " ...\n",
      " [ -2.49362482  11.37642304  -0.34325633 ...   1.74625509  10.25680293\n",
      "  -15.33210998]\n",
      " [ -1.26190757   8.27647161  -6.19142515 ...   1.08036687  -7.41882161\n",
      "    1.35490611]\n",
      " [  4.12727086  -4.9606421   -0.64870437 ...  -2.3064823    2.91650789\n",
      "   -0.69997407]]\n"
     ]
    }
   ],
   "source": [
    "# Calculate new image dimensions\n",
    "new_img_dim = img.shape[0] - kernel.shape[0] + 2 * padding + 1\n",
    "\n",
    "# Initialize new_img with zeros\n",
    "new_img = np.zeros((new_img_dim, new_img_dim))\n",
    "\n",
    "# Create a padded version of the input image\n",
    "pad_img = np.pad(img, ((padding, padding), (padding, padding)), mode='constant')\n",
    "\n",
    "# Iterate over the padded image to apply the convolution\n",
    "for y in range(new_img_dim):\n",
    "    for x in range(new_img_dim):\n",
    "        block = pad_img[y:y + kernel.shape[0], x:x + kernel.shape[1]]\n",
    "        new_img[y, x] = np.sum(kernel * block)\n",
    "\n",
    "# Print the result\n",
    "print(new_img)"
   ]
  },
  {
   "cell_type": "code",
   "execution_count": 40,
   "id": "7fd3a9f3-b9f1-4767-b968-2975160450ff",
   "metadata": {},
   "outputs": [
    {
     "data": {
      "text/plain": [
       "(array([[1., 1.],\n",
       "        [1., 1.]]),\n",
       " array([[0., 0., 0., 0.],\n",
       "        [0., 1., 1., 0.],\n",
       "        [0., 1., 1., 0.],\n",
       "        [0., 0., 0., 0.]]))"
      ]
     },
     "execution_count": 40,
     "metadata": {},
     "output_type": "execute_result"
    }
   ],
   "source": [
    "img1 = np.ones((2,2))\n",
    "pad_img1 = np.pad(img1, ((padding, padding),(padding, padding)), mode='constant')\n",
    "img1,pad_img1"
   ]
  },
  {
   "cell_type": "markdown",
   "id": "c85c8237-3fab-4199-ac02-32fc0fa13b7e",
   "metadata": {},
   "source": [
    "### Write a function to perform max pooling of an image"
   ]
  },
  {
   "cell_type": "code",
   "execution_count": 48,
   "id": "efe6755a-7d74-4e56-9c58-77006427c9a5",
   "metadata": {},
   "outputs": [],
   "source": [
    "def max_pool(img,kernel_size):\n",
    "    new_img = np.zeros((round(img.shape[0]/2), round(img.shape[1]/2)))\n",
    "    for y in range(0,img.shape[0],2):\n",
    "        for x in range(0,img.shape[1],2):\n",
    "            new_img[round(y/2),round(x/2)]=np.max(img[y:y+kernel_size,x:x+kernel_size])\n",
    "    return new_img"
   ]
  },
  {
   "cell_type": "code",
   "execution_count": 49,
   "id": "07d3bc26-2c8d-4282-890a-8883f07dadbb",
   "metadata": {},
   "outputs": [
    {
     "data": {
      "text/plain": [
       "(array([[ 0.63838637,  2.18212498, -0.7087016 , ..., -0.82567285,\n",
       "          1.02723707,  0.53271852],\n",
       "        [-1.16028225, -0.22341921, -0.44867893, ...,  0.46276818,\n",
       "         -1.16422706,  0.13475847],\n",
       "        [-0.81819584, -0.59360704,  2.45130047, ..., -1.00940513,\n",
       "          1.26700357, -1.29503141],\n",
       "        ...,\n",
       "        [-0.97949594, -1.22539982, -0.02291549, ...,  0.81643358,\n",
       "          0.96601733,  0.29734102],\n",
       "        [ 1.91551259, -0.89754706,  0.6968829 , ...,  2.00697945,\n",
       "         -0.7838804 ,  0.11340846],\n",
       "        [-1.04409271, -0.38637896,  0.01478406, ..., -0.25546803,\n",
       "          2.07174596, -0.12288174]]),\n",
       " array([[ 2.18212498,  0.83845348,  1.19075268, ...,  1.85350152,\n",
       "          0.46276818,  1.02723707],\n",
       "        [-0.59360704,  2.45130047,  0.23560356, ...,  1.16993476,\n",
       "          1.63039395,  1.26700357],\n",
       "        [ 1.53681493,  0.1310596 ,  1.5581286 , ...,  1.06049415,\n",
       "          1.12232556,  0.75698651],\n",
       "        ...,\n",
       "        [ 1.62033185,  0.52928548,  1.06856665, ...,  1.92855807,\n",
       "          1.27415733,  2.61968817],\n",
       "        [ 1.27181208,  1.15662705,  0.86450273, ...,  0.80816852,\n",
       "          0.81643358,  0.96601733],\n",
       "        [ 1.91551259,  2.47877081,  0.92852396, ...,  1.85085808,\n",
       "          2.00697945,  2.07174596]]))"
      ]
     },
     "execution_count": 49,
     "metadata": {},
     "output_type": "execute_result"
    }
   ],
   "source": [
    "img,max_pool(img,2)"
   ]
  },
  {
   "cell_type": "markdown",
   "id": "9bf76d9e-a6a2-4ecb-a0b1-f1931dbe33c7",
   "metadata": {},
   "source": [
    "### Write a class to perform linear regression"
   ]
  },
  {
   "cell_type": "code",
   "execution_count": 51,
   "id": "c757a8f4-31b9-40d1-b1be-b9935c957feb",
   "metadata": {},
   "outputs": [],
   "source": [
    "class LinearRegression:\n",
    "    def __init__(self):\n",
    "        self.slope = None\n",
    "        self.intercept = None\n",
    "\n",
    "    def fit(self, X, y):\n",
    "        n = len(X)\n",
    "        x_mean = np.mean(X)\n",
    "        y_mean = np.mean(y)\n",
    "        numerator = 0\n",
    "        denominator = 0\n",
    "        for i in range(n):\n",
    "            numerator += (X[i] - x_mean) * (y[i] - y_mean)\n",
    "            denominator += (X[i] - x_mean) ** 2\n",
    "        self.slope = numerator / denominator\n",
    "        self.intercept = y_mean - self.slope * x_mean\n",
    "\n",
    "    def predict(self, X):\n",
    "        y_pred = []\n",
    "        for x in X:\n",
    "            y_pred.append(self.slope * x + self.intercept)\n",
    "        return y_pred"
   ]
  },
  {
   "cell_type": "code",
   "execution_count": 53,
   "id": "dbc1604e-5a0f-4811-b42f-dd159a41df4c",
   "metadata": {},
   "outputs": [
    {
     "name": "stdout",
     "output_type": "stream",
     "text": [
      "0.6\n",
      "2.2\n",
      "[2.8000000000000003, 3.4000000000000004, 4.0, 4.6, 5.2]\n"
     ]
    }
   ],
   "source": [
    "X = np.array([1, 2, 3, 4, 5])\n",
    "y = np.array([2, 4, 5, 4, 5])\n",
    "lr = LinearRegression()\n",
    "lr.fit(X, y)\n",
    "print(lr.slope)  # Output: 0.6\n",
    "print(lr.intercept)  # Output: 2.2\n",
    "y_preds = lr.predict(X)\n",
    "print(y_pred)"
   ]
  },
  {
   "cell_type": "markdown",
   "id": "55abb515-44ff-483f-81dd-cb25c6384877",
   "metadata": {},
   "source": [
    "#### Calcualte the mean square error of the prediction"
   ]
  },
  {
   "cell_type": "code",
   "execution_count": 55,
   "id": "3153f57d-1950-4d17-b14c-904a2ce88ba3",
   "metadata": {},
   "outputs": [
    {
     "name": "stdout",
     "output_type": "stream",
     "text": [
      "0.47999999999999987\n"
     ]
    }
   ],
   "source": [
    "sum_sq_err=0\n",
    "for y_true, y_pred in zip(y,y_preds):\n",
    "    sum_sq_err += (y_true-y_pred)**2\n",
    "mse=sum_sq_err/len(y)\n",
    "print(mse)"
   ]
  },
  {
   "cell_type": "markdown",
   "id": "9b9877b4-e465-4e6c-be5c-8a9528c2b6d7",
   "metadata": {},
   "source": [
    "### Calculate the logistic regression with numpy"
   ]
  },
  {
   "cell_type": "code",
   "execution_count": 57,
   "id": "0a410546-6dd3-4ba1-b4fd-75f9d7b42826",
   "metadata": {},
   "outputs": [],
   "source": [
    "def sigmoid_fn(x):\n",
    "    return 1/(1+np.exp(x))"
   ]
  },
  {
   "cell_type": "code",
   "execution_count": 58,
   "id": "e87c22d5-018e-4af6-8208-f58b9a886d79",
   "metadata": {},
   "outputs": [
    {
     "data": {
      "text/plain": [
       "0.0066928509242848554"
      ]
     },
     "execution_count": 58,
     "metadata": {},
     "output_type": "execute_result"
    }
   ],
   "source": [
    "sigmoid_fn(5)"
   ]
  },
  {
   "cell_type": "code",
   "execution_count": null,
   "id": "eb36cbe0-6fc8-4e27-b41f-153019b0e838",
   "metadata": {},
   "outputs": [],
   "source": []
  }
 ],
 "metadata": {
  "kernelspec": {
   "display_name": "Python 3 (ipykernel)",
   "language": "python",
   "name": "python3"
  },
  "language_info": {
   "codemirror_mode": {
    "name": "ipython",
    "version": 3
   },
   "file_extension": ".py",
   "mimetype": "text/x-python",
   "name": "python",
   "nbconvert_exporter": "python",
   "pygments_lexer": "ipython3",
   "version": "3.8.12"
  }
 },
 "nbformat": 4,
 "nbformat_minor": 5
}
