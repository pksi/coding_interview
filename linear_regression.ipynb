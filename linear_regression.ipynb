{
 "cells": [
  {
   "cell_type": "markdown",
   "id": "41fd6903-91d8-4981-b04d-320296c44386",
   "metadata": {},
   "source": [
    "Task: fit the data below with a linear regression model"
   ]
  },
  {
   "cell_type": "code",
   "execution_count": 5,
   "id": "8d3aedd5-d965-4d43-844f-65a3c5b1b142",
   "metadata": {},
   "outputs": [],
   "source": [
    "X = [(1,2),(2,5),(3,3),(7,8),(21,25)]\n",
    "y = [20,25,28,30,50]"
   ]
  },
  {
   "cell_type": "markdown",
   "id": "c6ab6f21-575d-4a15-b0f2-a5517a8c996d",
   "metadata": {},
   "source": [
    "### sklearn model"
   ]
  },
  {
   "cell_type": "code",
   "execution_count": 105,
   "id": "6b8dd81b-9acc-4789-ba31-de6477bf4228",
   "metadata": {},
   "outputs": [],
   "source": [
    "from sklearn.linear_model import LinearRegression"
   ]
  },
  {
   "cell_type": "code",
   "execution_count": 106,
   "id": "5f278e90-524c-419d-8223-20970c4f5c74",
   "metadata": {},
   "outputs": [
    {
     "data": {
      "text/plain": [
       "LinearRegression()"
      ]
     },
     "execution_count": 106,
     "metadata": {},
     "output_type": "execute_result"
    }
   ],
   "source": [
    "model = LinearRegression()\n",
    "model.fit(X, y)"
   ]
  },
  {
   "cell_type": "code",
   "execution_count": 107,
   "id": "bec41ba0-5ca4-44d8-a521-270601c50a6a",
   "metadata": {},
   "outputs": [
    {
     "data": {
      "text/plain": [
       "array([22.659298, 23.773872, 25.57186 , 30.986935, 50.008038],\n",
       "      dtype=float32)"
      ]
     },
     "execution_count": 107,
     "metadata": {},
     "output_type": "execute_result"
    }
   ],
   "source": [
    "model.predict(X)"
   ]
  },
  {
   "cell_type": "markdown",
   "id": "ae50b13e-e927-4da7-8fd6-6495f108e875",
   "metadata": {},
   "source": [
    "### PyTorch model"
   ]
  },
  {
   "cell_type": "code",
   "execution_count": 108,
   "id": "f84496e6-0cab-4012-932a-422611abac33",
   "metadata": {},
   "outputs": [],
   "source": [
    "import torch\n",
    "import torch.nn as nn"
   ]
  },
  {
   "cell_type": "code",
   "execution_count": 109,
   "id": "766a7140-3d27-45c2-b692-b82be173d2fb",
   "metadata": {},
   "outputs": [],
   "source": [
    "class LinearModel(nn.Module):\n",
    "    def __init__(self):\n",
    "        super().__init__()\n",
    "        self.linear = nn.Linear(2, 1)\n",
    "\n",
    "    def forward(self, x):\n",
    "        # Forward pass\n",
    "        out = self.linear(x)\n",
    "        return out"
   ]
  },
  {
   "cell_type": "code",
   "execution_count": 118,
   "id": "c46617ad-9601-45e6-9ac0-8373c6b8b934",
   "metadata": {},
   "outputs": [],
   "source": [
    "model = LinearModel()"
   ]
  },
  {
   "cell_type": "code",
   "execution_count": 119,
   "id": "1d89b670-dab9-453f-b3d8-f3a36fcb7966",
   "metadata": {},
   "outputs": [
    {
     "name": "stderr",
     "output_type": "stream",
     "text": [
      "C:\\Users\\Peng\\AppData\\Local\\Temp/ipykernel_1336/1257109701.py:1: UserWarning: To copy construct from a tensor, it is recommended to use sourceTensor.clone().detach() or sourceTensor.clone().detach().requires_grad_(True), rather than torch.tensor(sourceTensor).\n",
      "  X = torch.tensor(X).type(torch.float)\n",
      "C:\\Users\\Peng\\AppData\\Local\\Temp/ipykernel_1336/1257109701.py:2: UserWarning: To copy construct from a tensor, it is recommended to use sourceTensor.clone().detach() or sourceTensor.clone().detach().requires_grad_(True), rather than torch.tensor(sourceTensor).\n",
      "  y=torch.tensor(y).type(torch.float)\n"
     ]
    },
    {
     "data": {
      "text/plain": [
       "(tensor([[ 1.,  2.],\n",
       "         [ 2.,  5.],\n",
       "         [ 3.,  3.],\n",
       "         [ 7.,  8.],\n",
       "         [21., 25.]]),\n",
       " tensor([20., 25., 28., 30., 50.]))"
      ]
     },
     "execution_count": 119,
     "metadata": {},
     "output_type": "execute_result"
    }
   ],
   "source": [
    "X = torch.tensor(X).type(torch.float)\n",
    "y=torch.tensor(y).type(torch.float)\n",
    "X,y"
   ]
  },
  {
   "cell_type": "code",
   "execution_count": 120,
   "id": "d7a2f87d-9494-4c80-bf24-541aa32b72cc",
   "metadata": {},
   "outputs": [],
   "source": [
    "# Create the loss function\n",
    "loss_fn = nn.MSELoss() # MAE loss is same as L1Loss\n",
    "\n",
    "# Create the optimizer\n",
    "optimizer = torch.optim.SGD(params=model.parameters(), # parameters of target model to optimize\n",
    "                            lr=0.001) # learning rate (how much the optimizer should change parameters at each step, higher=more (less stable), lower=less (might take a long time))"
   ]
  },
  {
   "cell_type": "code",
   "execution_count": 121,
   "id": "462d5ed8-7aba-41aa-9033-fa2ea17a9d81",
   "metadata": {},
   "outputs": [
    {
     "name": "stdout",
     "output_type": "stream",
     "text": [
      "671.14185\n",
      "608.75745\n",
      "591.7281\n",
      "586.4026\n",
      "584.0993\n",
      "582.5786\n",
      "581.2627\n",
      "580.0024\n",
      "578.7592\n",
      "577.5234\n",
      "576.29205\n",
      "575.0649\n",
      "573.8415\n",
      "572.6218\n",
      "571.40594\n",
      "570.19366\n",
      "568.98517\n",
      "567.78033\n",
      "566.5792\n",
      "565.3817\n",
      "564.18787\n",
      "562.99774\n",
      "561.81116\n",
      "560.62823\n",
      "559.4489\n",
      "558.2732\n",
      "557.1011\n",
      "555.93243\n",
      "554.7674\n",
      "553.60596\n",
      "552.44806\n",
      "551.2937\n",
      "550.14276\n",
      "548.9954\n",
      "547.8515\n",
      "546.71106\n",
      "545.5741\n",
      "544.44055\n",
      "543.31055\n",
      "542.1839\n",
      "541.0607\n",
      "539.9409\n",
      "538.82446\n",
      "537.71155\n",
      "536.6019\n",
      "535.49567\n",
      "534.39276\n",
      "533.29315\n",
      "532.19696\n",
      "531.104\n",
      "530.0144\n",
      "528.92816\n",
      "527.8451\n",
      "526.76544\n",
      "525.68896\n",
      "524.6157\n",
      "523.5458\n",
      "522.4791\n",
      "521.41565\n",
      "520.35535\n",
      "519.2982\n",
      "518.2443\n",
      "517.19366\n",
      "516.1461\n",
      "515.10175\n",
      "514.0605\n",
      "513.0225\n",
      "511.98755\n",
      "510.95575\n",
      "509.92703\n",
      "508.90137\n",
      "507.8788\n",
      "506.8594\n",
      "505.84308\n",
      "504.82977\n",
      "503.8195\n",
      "502.81232\n",
      "501.80807\n",
      "500.807\n",
      "499.80878\n",
      "498.81366\n",
      "497.82156\n",
      "496.8323\n",
      "495.84607\n",
      "494.86288\n",
      "493.88257\n",
      "492.90524\n",
      "491.93082\n",
      "490.95935\n",
      "489.9907\n",
      "489.02502\n",
      "488.06226\n",
      "487.10236\n",
      "486.14532\n",
      "485.19125\n",
      "484.23984\n",
      "483.29147\n",
      "482.34583\n",
      "481.40305\n",
      "480.46307\n"
     ]
    }
   ],
   "source": [
    "torch.manual_seed(42)\n",
    "epochs = 100\n",
    "for epoch in range(epochs):\n",
    "    # Put model in training mode (this is the default state of a model)\n",
    "    model.train()\n",
    "\n",
    "    # 1. Forward pass on train data using the forward() method inside \n",
    "    y_pred = model(X)\n",
    "\n",
    "    # 2. Calculate the loss (how different are our models predictions to the ground truth)\n",
    "    loss = loss_fn(y_pred, y)\n",
    "    print(loss.detach().numpy())\n",
    "\n",
    "    # 3. Zero grad of the optimizer\n",
    "    optimizer.zero_grad()\n",
    "\n",
    "    # 4. Loss backwards\n",
    "    loss.backward()\n",
    "\n",
    "    # 5. Progress the optimizer\n",
    "    optimizer.step()"
   ]
  },
  {
   "cell_type": "code",
   "execution_count": null,
   "id": "d4ec858a-10d5-489d-aa6f-47772678add5",
   "metadata": {},
   "outputs": [],
   "source": []
  }
 ],
 "metadata": {
  "kernelspec": {
   "display_name": "Python 3 (ipykernel)",
   "language": "python",
   "name": "python3"
  },
  "language_info": {
   "codemirror_mode": {
    "name": "ipython",
    "version": 3
   },
   "file_extension": ".py",
   "mimetype": "text/x-python",
   "name": "python",
   "nbconvert_exporter": "python",
   "pygments_lexer": "ipython3",
   "version": "3.8.12"
  }
 },
 "nbformat": 4,
 "nbformat_minor": 5
}
