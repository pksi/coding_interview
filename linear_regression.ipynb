{
 "cells": [
  {
   "cell_type": "markdown",
   "id": "41fd6903-91d8-4981-b04d-320296c44386",
   "metadata": {},
   "source": [
    "Problem: Fit the data below with a linear regression model"
   ]
  },
  {
   "cell_type": "code",
   "execution_count": 5,
   "id": "8d3aedd5-d965-4d43-844f-65a3c5b1b142",
   "metadata": {},
   "outputs": [],
   "source": [
    "X = [(1,2),(2,5),(3,3),(7,8),(21,25)]\n",
    "y = [20,25,28,30,50]"
   ]
  },
  {
   "cell_type": "markdown",
   "id": "c6ab6f21-575d-4a15-b0f2-a5517a8c996d",
   "metadata": {},
   "source": [
    "### sklearn model"
   ]
  },
  {
   "cell_type": "code",
   "execution_count": 13,
   "id": "6b8dd81b-9acc-4789-ba31-de6477bf4228",
   "metadata": {},
   "outputs": [],
   "source": [
    "from sklearn.linear_model import LinearRegression\n",
    "from sklearn.metrics import mean_squared_error"
   ]
  },
  {
   "cell_type": "code",
   "execution_count": 76,
   "id": "5f278e90-524c-419d-8223-20970c4f5c74",
   "metadata": {},
   "outputs": [
    {
     "data": {
      "text/plain": [
       "LinearRegression()"
      ]
     },
     "execution_count": 76,
     "metadata": {},
     "output_type": "execute_result"
    }
   ],
   "source": [
    "model1 = LinearRegression()\n",
    "model1.fit(X, y)"
   ]
  },
  {
   "cell_type": "code",
   "execution_count": 78,
   "id": "bec41ba0-5ca4-44d8-a521-270601c50a6a",
   "metadata": {},
   "outputs": [
    {
     "name": "stdout",
     "output_type": "stream",
     "text": [
      "[22.659298 23.773872 25.57186  30.986935 50.008038]\n"
     ]
    }
   ],
   "source": [
    "y_preds = model1.predict(X)\n",
    "print(y_preds)"
   ]
  },
  {
   "cell_type": "code",
   "execution_count": 79,
   "id": "81605896-da4a-40c5-9b81-535093196122",
   "metadata": {},
   "outputs": [
    {
     "name": "stdout",
     "output_type": "stream",
     "text": [
      "3.089045\n"
     ]
    }
   ],
   "source": [
    "mse = mean_squared_error(y, y_preds)\n",
    "print(mse)"
   ]
  },
  {
   "cell_type": "markdown",
   "id": "ae50b13e-e927-4da7-8fd6-6495f108e875",
   "metadata": {},
   "source": [
    "### PyTorch model"
   ]
  },
  {
   "cell_type": "code",
   "execution_count": 103,
   "id": "f84496e6-0cab-4012-932a-422611abac33",
   "metadata": {},
   "outputs": [],
   "source": [
    "import torch\n",
    "import torch.nn as nn"
   ]
  },
  {
   "cell_type": "code",
   "execution_count": 127,
   "id": "9faacb46-3f58-4a6c-ad59-1c3345fbcd83",
   "metadata": {},
   "outputs": [],
   "source": [
    "class LinearModel(nn.Module):\n",
    "    def __init__(self):\n",
    "        super().__init__()\n",
    "        self.linear = nn.Linear(2, 1)\n",
    "\n",
    "    def forward(self, x):\n",
    "        # Forward pass\n",
    "        out = self.linear(x)\n",
    "        return out\n",
    "\n",
    "model2 = LinearModel()"
   ]
  },
  {
   "cell_type": "code",
   "execution_count": 128,
   "id": "1d89b670-dab9-453f-b3d8-f3a36fcb7966",
   "metadata": {},
   "outputs": [
    {
     "name": "stdout",
     "output_type": "stream",
     "text": [
      "tensor([[ 1.,  2.],\n",
      "        [ 2.,  5.],\n",
      "        [ 3.,  3.],\n",
      "        [ 7.,  8.],\n",
      "        [21., 25.]]) \n",
      " tensor([20., 25., 28., 30., 50.])\n"
     ]
    },
    {
     "name": "stderr",
     "output_type": "stream",
     "text": [
      "C:\\Users\\Peng\\AppData\\Local\\Temp/ipykernel_9536/3093484265.py:1: UserWarning: To copy construct from a tensor, it is recommended to use sourceTensor.clone().detach() or sourceTensor.clone().detach().requires_grad_(True), rather than torch.tensor(sourceTensor).\n",
      "  X = torch.tensor(X).type(torch.float)\n",
      "C:\\Users\\Peng\\AppData\\Local\\Temp/ipykernel_9536/3093484265.py:2: UserWarning: To copy construct from a tensor, it is recommended to use sourceTensor.clone().detach() or sourceTensor.clone().detach().requires_grad_(True), rather than torch.tensor(sourceTensor).\n",
      "  y=torch.tensor(y).type(torch.float)\n"
     ]
    }
   ],
   "source": [
    "X = torch.tensor(X).type(torch.float)\n",
    "y=torch.tensor(y).type(torch.float)\n",
    "print(X,\"\\n\", y)"
   ]
  },
  {
   "cell_type": "code",
   "execution_count": 129,
   "id": "d7a2f87d-9494-4c80-bf24-541aa32b72cc",
   "metadata": {},
   "outputs": [],
   "source": [
    "loss_fn = nn.MSELoss() \n",
    "optimizer = torch.optim.Adam(params=model2.parameters(),lr=0.05)"
   ]
  },
  {
   "cell_type": "code",
   "execution_count": 130,
   "id": "462d5ed8-7aba-41aa-9033-fa2ea17a9d81",
   "metadata": {},
   "outputs": [
    {
     "name": "stdout",
     "output_type": "stream",
     "text": [
      "491.0019\n",
      "186.2034\n",
      "146.0051\n",
      "112.335915\n",
      "85.022865\n",
      "63.594757\n",
      "47.238007\n",
      "35.052387\n",
      "26.16895\n",
      "19.810808\n",
      "15.322426\n",
      "12.177272\n",
      "9.971304\n",
      "8.407397\n",
      "7.275837\n",
      "6.434041\n",
      "5.7882786\n",
      "5.2785254\n",
      "4.8669496\n",
      "4.529629\n",
      "4.251052\n",
      "4.020589\n",
      "3.8304353\n",
      "3.6743927\n",
      "3.5472767\n",
      "3.4445996\n",
      "3.3624184\n",
      "3.297274\n",
      "3.2461464\n",
      "3.2064197\n",
      "3.1758676\n",
      "3.1526198\n",
      "3.1351159\n",
      "3.1220791\n",
      "3.1124794\n",
      "3.105484\n",
      "3.1004486\n",
      "3.096865\n",
      "3.0943437\n",
      "3.0925944\n"
     ]
    }
   ],
   "source": [
    "torch.manual_seed(42)\n",
    "epochs = 2000\n",
    "for epoch in range(epochs):    \n",
    "    model2.train()\n",
    "    y_pred = model2(X)\n",
    "    loss = loss_fn(y_pred, y.reshape(-1, 1))\n",
    "    if epoch%50==0:\n",
    "        print(f'{loss.detach().numpy()}')\n",
    "    optimizer.zero_grad()\n",
    "    loss.backward()\n",
    "    optimizer.step()"
   ]
  },
  {
   "cell_type": "code",
   "execution_count": 131,
   "id": "6f2c7502-81fb-4721-b99c-58e04abd3942",
   "metadata": {},
   "outputs": [
    {
     "name": "stdout",
     "output_type": "stream",
     "text": [
      "tensor([[22.6460],\n",
      "        [23.8431],\n",
      "        [25.5043],\n",
      "        [30.9423],\n",
      "        [50.0219]], grad_fn=<AddmmBackward0>)\n"
     ]
    }
   ],
   "source": [
    "y_preds = model2(X)\n",
    "print(y_preds)"
   ]
  }
 ],
 "metadata": {
  "kernelspec": {
   "display_name": "Python 3 (ipykernel)",
   "language": "python",
   "name": "python3"
  },
  "language_info": {
   "codemirror_mode": {
    "name": "ipython",
    "version": 3
   },
   "file_extension": ".py",
   "mimetype": "text/x-python",
   "name": "python",
   "nbconvert_exporter": "python",
   "pygments_lexer": "ipython3",
   "version": "3.8.12"
  }
 },
 "nbformat": 4,
 "nbformat_minor": 5
}
